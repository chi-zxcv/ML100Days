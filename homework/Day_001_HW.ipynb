{
  "nbformat": 4,
  "nbformat_minor": 0,
  "metadata": {
    "anaconda-cloud": {},
    "kernelspec": {
      "display_name": "Python 3",
      "language": "python",
      "name": "python3"
    },
    "language_info": {
      "codemirror_mode": {
        "name": "ipython",
        "version": 3
      },
      "file_extension": ".py",
      "mimetype": "text/x-python",
      "name": "python",
      "nbconvert_exporter": "python",
      "pygments_lexer": "ipython3",
      "version": "3.7.0"
    },
    "colab": {
      "name": "Day_001_HW.ipynb",
      "provenance": []
    }
  },
  "cells": [
    {
      "cell_type": "markdown",
      "metadata": {
        "id": "3vkt0sNk8aGO",
        "colab_type": "text"
      },
      "source": [
        "## 練習時間\n",
        "#### 請寫一個函式用來計算 Mean Square Error\n",
        "$ MSE = \\frac{1}{n}\\sum_{i=1}^{n}{(Y_i - \\hat{Y}_i)^2} $\n",
        "\n",
        "### Hint: [如何取平方](https://googoodesign.gitbooks.io/-ezpython/unit-1.html)"
      ]
    },
    {
      "cell_type": "markdown",
      "metadata": {
        "id": "u0eCUSJb8aGQ",
        "colab_type": "text"
      },
      "source": [
        "# [作業目標]\n",
        "- 仿造範例的MAE函數, 自己寫一個MSE函數(參考上面公式)"
      ]
    },
    {
      "cell_type": "markdown",
      "metadata": {
        "id": "AdsKzUNa8aGS",
        "colab_type": "text"
      },
      "source": [
        "# [作業重點]\n",
        "- 注意程式的縮排\n",
        "- 是否能將數學公式, 轉換為 Python 的函式組合? (In[2], Out[2])"
      ]
    },
    {
      "cell_type": "code",
      "metadata": {
        "id": "lLyy04wI8aGT",
        "colab_type": "code",
        "colab": {}
      },
      "source": [
        "# 載入基礎套件與代稱\n",
        "import numpy as np\n",
        "import matplotlib.pyplot as plt"
      ],
      "execution_count": 0,
      "outputs": []
    },
    {
      "cell_type": "code",
      "metadata": {
        "id": "xr0n_jeN8aGX",
        "colab_type": "code",
        "colab": {}
      },
      "source": [
        "def mean_absolute_error(y, yp):\n",
        "    \"\"\"\n",
        "    計算 MAE\n",
        "    Args:\n",
        "        - y: 實際值\n",
        "        - yp: 預測值\n",
        "    Return:\n",
        "        - mae: MAE\n",
        "    \"\"\"\n",
        "    mae = MAE = sum(abs(y - yp)) / len(y)\n",
        "    return mae\n",
        "\n",
        "# 定義 mean_squared_error 這個函數, 計算並傳回 MSE\n",
        "def mean_squared_error():\n",
        "    \"\"\"\n",
        "    請完成這個 Function 後往下執行\n",
        "    \"\"\""
      ],
      "execution_count": 0,
      "outputs": []
    },
    {
      "cell_type": "code",
      "metadata": {
        "id": "lcjqcG_88aGb",
        "colab_type": "code",
        "colab": {}
      },
      "source": [
        "# 與範例相同, 不另外解說\n",
        "w = 3\n",
        "b = 0.5\n",
        "x_lin = np.linspace(0, 100, 101)\n",
        "y = (x_lin + np.random.randn(101) * 5) * w + b\n",
        "\n",
        "plt.plot(x_lin, y, 'b.', label = 'data points')\n",
        "plt.title(\"Assume we have data points\")\n",
        "plt.legend(loc = 2)\n",
        "plt.show()"
      ],
      "execution_count": 0,
      "outputs": []
    },
    {
      "cell_type": "code",
      "metadata": {
        "id": "iJq5RGSv8aGe",
        "colab_type": "code",
        "colab": {}
      },
      "source": [
        "# 與範例相同, 不另外解說\n",
        "y_hat = x_lin * w + b\n",
        "plt.plot(x_lin, y, 'b.', label = 'data')\n",
        "plt.plot(x_lin, y_hat, 'r-', label = 'prediction')\n",
        "plt.title(\"Assume we have data points (And the prediction)\")\n",
        "plt.legend(loc = 2)\n",
        "plt.show()"
      ],
      "execution_count": 0,
      "outputs": []
    },
    {
      "cell_type": "code",
      "metadata": {
        "id": "e-ZEGZgW8aGh",
        "colab_type": "code",
        "colab": {}
      },
      "source": [
        "# 執行 Function, 確認有沒有正常執行\n",
        "MSE = mean_squared_error(y, y_hat)\n",
        "MAE = mean_absolute_error(y, y_hat)\n",
        "print(\"The Mean squared error is %.3f\" % (MSE))\n",
        "print(\"The Mean absolute error is %.3f\" % (MAE))"
      ],
      "execution_count": 0,
      "outputs": []
    },
    {
      "cell_type": "markdown",
      "metadata": {
        "id": "a-9U7_bP8vZ7",
        "colab_type": "text"
      },
      "source": [
        "# [作業回答]"
      ]
    },
    {
      "cell_type": "code",
      "metadata": {
        "id": "R-mBIJU380oh",
        "colab_type": "code",
        "colab": {}
      },
      "source": [
        "# Python 的函數是另一個新手上手的困難點, 由def開頭, 依序是函數名稱 / 輸入值, 冒號(:)結尾\n",
        "# 最難讓人習慣的是 Python 的函式與條件判斷, 前後都沒有大括弧(其他程式常見), 而是以四格空白縮排來取代\n",
        "# 以本例來說, mean_absolute_error 這個函數的定義範圍到 return mae 為止, 因為中間都是縮排, 而 \"\"\" 是多行註解(井號是單行註解)\n",
        "# 函數中, sum(), abs(), len() 都是 Python 原有的方法, 因此可以直接呼叫\n",
        "def mean_Square_error(y, yp):\n",
        "    \"\"\"\n",
        "    計算 MSE\n",
        "    Args:\n",
        "        - y: 實際值\n",
        "        - yp: 預測值\n",
        "    Return:\n",
        "        - mae: MSE\n",
        "    \"\"\"\n",
        "    # MAE : 將兩個陣列相減後, 取絕對值(abs), 再將整個陣列加總成一個數字(sum), 最後除以y的長度(len), 因此稱為\"平均絕對誤差\"\n",
        "    mae = MSE = sum((y - yp)**2) / len(y)\n",
        "    return mae\n",
        "\n",
        "# 呼叫上述函式, 傳回 y(藍點高度)與 y_hat(紅線高度) 的 MAE\n",
        "MSE = mean_Square_error(y, y_hat)\n",
        "print(\"The Mean Square error is %.3f\" % (MSE))"
      ],
      "execution_count": 0,
      "outputs": []
    },
    {
      "cell_type": "markdown",
      "metadata": {
        "id": "rbmB1CJw8aGk",
        "colab_type": "text"
      },
      "source": [
        "# [作業2]\n",
        "\n",
        "請上 Kaggle, 在 Competitions 或 Dataset 中找一組競賽或資料並寫下：\n",
        "\n",
        "1. 你選的這組資料為何重要\n",
        "\n",
        "2. 資料從何而來 (tips: 譬如提供者是誰、以什麼方式蒐集)\n",
        "\n",
        "3. 蒐集而來的資料型態為何\n",
        "\n",
        "4. 這組資料想解決的問題如何評估\n",
        "\n",
        "# [作業3]\n",
        "\n",
        "想像你經營一個自由載客車隊，你希望能透過數據分析以提升業績，請你思考並描述你如何規劃整體的分析/解決方案：\n",
        "\n",
        "1. 核心問題為何 (tips：如何定義 「提升業績 & 你的假設」)\n",
        "\n",
        "2. 資料從何而來 (tips：哪些資料可能會對你想問的問題產生影響 & 資料如何蒐集)\n",
        "\n",
        "3. 蒐集而來的資料型態為何\n",
        "\n",
        "4. 你要回答的問題，其如何評估 (tips：你的假設如何驗證)"
      ]
    },
    {
      "cell_type": "markdown",
      "metadata": {
        "id": "-mpkCNau9sHj",
        "colab_type": "text"
      },
      "source": [
        "# [作業回答 Question2]"
      ]
    },
    {
      "cell_type": "markdown",
      "metadata": {
        "id": "JLRIuQpP9uIY",
        "colab_type": "text"
      },
      "source": [
        "THe dataset I choose is from https://www.kaggle.com/rohitmidha23/food-recognition-challenge \n",
        "\n",
        "=> the title of this dataset is \"Food Recognition Challenge Dataset\"\n",
        "\n",
        "1.What you eat is highly correlated with your health. With the advance of image analysis, I think the technique of food recognition is achievable, and it will bcome more useful and potential after combineing with nutrition index and nutrition Facts\n",
        "\n",
        "2.Dataset for the Food Recognition Challenge conducted on AIcrowd hosted here: https://www.aicrowd.com/challenges/food-recognition-challenge. \n",
        "\n",
        "=>It collected through the MyFoodRepo app where numerous volunteer Swiss users provide images of their daily food intake in the context of a digital cohort called Food & You\n",
        "\n",
        "3.data type: Imagines (3D structure)\n",
        "\n",
        "4.calculate the percent of value between predict and true labrl \n"
      ]
    },
    {
      "cell_type": "markdown",
      "metadata": {
        "id": "ahhnCvCtBT4A",
        "colab_type": "text"
      },
      "source": [
        "# [作業回答 Question3]"
      ]
    },
    {
      "cell_type": "markdown",
      "metadata": {
        "id": "h4IpVOrJBWzc",
        "colab_type": "text"
      },
      "source": [
        "1. 提升業績\n",
        "\n",
        "2.可以從電話或是APP預約地點、到達地點、行車時間等等；再搭配交統部或是公開資料網\n",
        "=> 從乘客、環境(市況)、甚至是市府的方向政策(例如公車路線之調整等等)\n",
        "\n",
        "3.資料型態：數值型\n",
        "\n",
        "4.首先要先決定要以哪個指標當作最後標準，以業績來說，是以\"營業額\"、\"淨利\"、還是\"載客數當作\"指標\n",
        "\n",
        "=> 以營業額當作指標可以以全觀的角度評估效益\n",
        "\n",
        "=> 以淨利來看可以評估在不同的線、路段那些具有經濟效益，以增減是否增加車子的比例。並且可以利用搭乘時間搭配交通部車流系統等等，計算出特定時間尖峰時刻等等，以提供一個最有效率的行車路線，將淨利最大化、將行車時間最小化\n",
        "\n",
        "=> 以載客量來說可以評估在顧客的生活型態，與習慣搭乘模式，以估算出是因為型態的關係，還是廣告的投放不足，以調整整體策略"
      ]
    },
    {
      "cell_type": "code",
      "metadata": {
        "id": "5qeoGSy8E9Xl",
        "colab_type": "code",
        "colab": {}
      },
      "source": [
        ""
      ],
      "execution_count": 0,
      "outputs": []
    }
  ]
}